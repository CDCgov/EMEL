{
 "cells": [
  {
   "cell_type": "code",
   "execution_count": null,
   "id": "9fbc2dc3-82cb-4aed-b24e-b14d2cb4a593",
   "metadata": {},
   "outputs": [],
   "source": [
    "import matplotlib.pyplot as plt\n",
    "import pandas as pd\n",
    "import os\n",
    "from functools import partial, reduce\n",
    "from matplotlib.patches import Patch"
   ]
  },
  {
   "cell_type": "code",
   "execution_count": null,
   "id": "e94e9e62-8608-4e06-a065-31597deb7a73",
   "metadata": {},
   "outputs": [],
   "source": [
    "directory = os.path.abspath(r'Test_dataset_depth') "
   ]
  },
  {
   "cell_type": "code",
   "execution_count": null,
   "id": "8d63831f-1df2-4ee6-add8-65aef99450f9",
   "metadata": {},
   "outputs": [],
   "source": [
    "os.chdir(directory)"
   ]
  },
  {
   "cell_type": "markdown",
   "id": "5c1d62e4-8aaf-4794-be30-6453afe9780e",
   "metadata": {},
   "source": [
    "## Get file names"
   ]
  },
  {
   "cell_type": "code",
   "execution_count": null,
   "id": "914e5ab2-2295-4bcb-a1fd-7d42f4da973f",
   "metadata": {},
   "outputs": [],
   "source": [
    "def getFiles(directory, suffix1):\n",
    "    \"\"\"Create list of files and sample names\"\"\"\n",
    "    fileList = []\n",
    "    nameList = []\n",
    "    for f in os.listdir(os.path.abspath(directory)):\n",
    "        if (f.endswith(suffix1)):\n",
    "            fileList.append(f)\n",
    "            fns = f.split(suffix1)[0]\n",
    "            nameList.append(fns)\n",
    "    return fileList, nameList"
   ]
  },
  {
   "cell_type": "code",
   "execution_count": null,
   "id": "44af766f-7fbd-4368-bde7-fe42ac1b4eb3",
   "metadata": {},
   "outputs": [],
   "source": [
    "fileList, nameList = getFiles(directory,'_250000_depth.txt')"
   ]
  },
  {
   "cell_type": "markdown",
   "id": "2b73018b-3dbd-49da-aaef-2691c4c0e2ca",
   "metadata": {},
   "source": [
    "## Create dictionary of dataframes from depth profiles"
   ]
  },
  {
   "cell_type": "code",
   "execution_count": null,
   "id": "b4c8cfa5-4011-4d7d-8449-b7d314072512",
   "metadata": {},
   "outputs": [],
   "source": [
    "def makedict(fileList,nameList,directory):\n",
    "    \"\"\"Convert depth profiles to dictionary of dfs\"\"\"\n",
    "    dictdf = {}\n",
    "    renamedict = {}\n",
    "    \n",
    "    for i in range(len(fileList)):\n",
    "        dictdf[nameList[i]] = pd.read_csv(os.path.abspath(directory) +'/'+ fileList[i], sep='\\t', header=None, \n",
    "                                          names=['REF','POS','Depth'])\n",
    "   \n",
    "    for key, df in dictdf.items():\n",
    "        dfrename = df.rename(columns = {'Depth':key})\n",
    "        renamedict[key] = dfrename\n",
    "        \n",
    "    return renamedict        "
   ]
  },
  {
   "cell_type": "code",
   "execution_count": null,
   "id": "fd38507b-bb81-4789-ae24-37080309acbb",
   "metadata": {},
   "outputs": [],
   "source": [
    "renamedict = makedict(fileList,nameList,directory)"
   ]
  },
  {
   "cell_type": "markdown",
   "id": "df4aa85a-cbbf-49f4-a1b4-9c386ace8cff",
   "metadata": {},
   "source": [
    "## Merge dataframes in dictionary and subset genome by contig, gene, plasmid, etc."
   ]
  },
  {
   "cell_type": "code",
   "execution_count": null,
   "id": "6d5bde18-4441-4da7-a876-281035fac1ca",
   "metadata": {},
   "outputs": [],
   "source": [
    "def mergedictdf(renamedict,genomeID=\"\"):\n",
    "    \"\"\"Merge dataframes in dictionary to dataframe\"\"\"   \n",
    "    my_reduce = partial(pd.merge, on= ['REF','POS'], how='outer')\n",
    "    mergeddf = reduce(my_reduce,renamedict.values())\n",
    "    \n",
    "    if not genomeID:\n",
    "        genomedf = mergeddf\n",
    "    else:\n",
    "        genomedf = mergeddf[mergeddf.REF == genomeID] \n",
    "    \n",
    "    return genomedf"
   ]
  },
  {
   "cell_type": "code",
   "execution_count": null,
   "id": "97f5fce0-1dd9-49f9-a48d-6a503dc92495",
   "metadata": {},
   "outputs": [],
   "source": [
    "genomedf = mergedictdf(renamedict,\"NC_003197.2\")"
   ]
  },
  {
   "cell_type": "code",
   "execution_count": null,
   "id": "79d6107a-ed7f-461f-90f7-9528f74030e6",
   "metadata": {},
   "outputs": [],
   "source": [
    "genomedf.head()"
   ]
  },
  {
   "cell_type": "markdown",
   "id": "8dcd1c5c-3235-4b6e-91aa-062617199903",
   "metadata": {},
   "source": [
    "### Custom sort columns of dataframe (Optional)"
   ]
  },
  {
   "cell_type": "code",
   "execution_count": null,
   "id": "cea6c5de-140a-42ca-8aee-b527b02683a7",
   "metadata": {},
   "outputs": [],
   "source": [
    "def sortcolumns(genomedf,*args):\n",
    "    \"\"\"sort columns in dataframe\"\"\"\n",
    "    if not args:\n",
    "        df = genomedf\n",
    "    else:\n",
    "        tupleorder = args\n",
    "        newlist = list(tupleorder)\n",
    "        df = genomedf[genomedf.columns[newlist]]\n",
    "\n",
    "    return df"
   ]
  },
  {
   "cell_type": "code",
   "execution_count": null,
   "id": "077defa9-d995-4d3b-80c8-f9ca61777e24",
   "metadata": {},
   "outputs": [],
   "source": [
    "df = sortcolumns(genomedf)"
   ]
  },
  {
   "cell_type": "markdown",
   "id": "d7a17288-c20d-4131-a1aa-b1978bbe0cad",
   "metadata": {},
   "source": [
    "## Set plot labels and colors"
   ]
  },
  {
   "cell_type": "code",
   "execution_count": null,
   "id": "1ce8b46e-d8e2-48d1-9a5f-6b281a9f2df7",
   "metadata": {},
   "outputs": [],
   "source": [
    "label0 = [Patch(facecolor=\"forestgreen\", label=\"$10^3$_90.0_(0.001)\")]\n",
    "label1 = [Patch(facecolor=\"olivedrab\", label=\"$10^3$_50.0_(0.01)\")]\n",
    "label2 = [Patch(facecolor=\"yellowgreen\", label=\"$10^3$_9.1_(0.1)\")] \n",
    "label3 = [Patch(facecolor=\"slategrey\", label=\"$10^3$_1.0_(1)\")]"
   ]
  },
  {
   "cell_type": "code",
   "execution_count": null,
   "id": "a7ecf879-1ef6-47c9-ba2b-e3052e81934d",
   "metadata": {},
   "outputs": [],
   "source": [
    "legend0 = [Patch(facecolor=\"None\", label=\"cov=61.2%, CV=0.73\")]\n",
    "legend1 = [Patch(facecolor=\"None\", label=\"cov=17.3%, CV=0.85\")]\n",
    "legend2 = [Patch(facecolor=\"None\", label=\"cov=2.2%, CV=2.12\")]\n",
    "legend3 = [Patch(facecolor=\"None\", label=\"cov=0.29%, CV=6.24\")]"
   ]
  },
  {
   "cell_type": "markdown",
   "id": "d39bbf54-0ae7-40e5-814a-90ce0921b3ac",
   "metadata": {},
   "source": [
    "## Plot"
   ]
  },
  {
   "cell_type": "code",
   "execution_count": null,
   "id": "d1631588-346d-4fa6-81b5-ac0aabb0a101",
   "metadata": {},
   "outputs": [],
   "source": [
    "fig, ax=plt.subplots(4, figsize=(15,20), sharey=True, sharex=True)\n",
    "\n",
    "#### Plot 0 (label 10)\n",
    "\n",
    "ax[0].plot(df[df.columns[1]],df[df.columns[2]],color=\"forestgreen\")\n",
    "ax[0].set_ylim((10**0,10**3))\n",
    "ax[0].set_yscale(\"log\")\n",
    "ax[0].legend(handles=label0, loc='upper left', fontsize=18)\n",
    "ax[0].tick_params(axis='both', which='major', labelsize=14)\n",
    "\n",
    "axA=ax[0].twinx()\n",
    "axA.get_yaxis().set_visible(False)\n",
    "axA.legend(handles=legend0, loc='upper right', fontsize=14, frameon=False)\n",
    "\n",
    "#### Plot 1\n",
    "\n",
    "ax[1].plot(df[df.columns[1]],df[df.columns[3]],color=\"olivedrab\") \n",
    "ax[1].legend(handles=label1, loc='upper left', fontsize=18)\n",
    "ax[1].tick_params(axis='both', which='major', labelsize=14)\n",
    "\n",
    "axB=ax[1].twinx()\n",
    "axB.get_yaxis().set_visible(False)\n",
    "axB.legend(handles=legend1, loc='upper right', fontsize=14, frameon=False)\n",
    "\n",
    "#### Plot 2\n",
    "\n",
    "ax[2].plot(df[df.columns[1]],df[df.columns[4]],color=\"yellowgreen\") \n",
    "ax[2].legend(handles=label2, loc='upper left', fontsize=18)\n",
    "ax[2].tick_params(axis='both', which='major', labelsize=14)\n",
    "\n",
    "axC=ax[2].twinx()\n",
    "axC.get_yaxis().set_visible(False)\n",
    "axC.legend(handles=legend2, loc='upper right', fontsize=14, frameon=False)\n",
    "\n",
    "#### Plot 3\n",
    "\n",
    "ax[3].plot(df[df.columns[1]],df[df.columns[5]],color=\"slategrey\") #turquois blue\n",
    "ax[3].legend(handles=label3, loc='upper left', fontsize=18)\n",
    "ax[3].tick_params(axis='both', which='major', labelsize=14)\n",
    "\n",
    "axD=ax[3].twinx()\n",
    "axD.get_yaxis().set_visible(False)\n",
    "axD.legend(handles=legend3, loc='upper right', fontsize=14, frameon=False)\n",
    "\n",
    "#### Figure parameters\n",
    "\n",
    "fig.text(0.05, 0.5, \"Read Depth (Log$_{10}$)\", \n",
    "         va='center', rotation='vertical', fontsize=22)\n",
    "\n",
    "fig.text(0.41, 0.075, \"Genome Position (Mbp)\", \n",
    "         va='center', rotation='horizontal', fontsize=22)\n",
    "\n",
    "## fig.savefig(\"ATCC_Env_test_plot.tiff\", bbox_inches='tight')\n",
    "\n",
    "plt.show()"
   ]
  },
  {
   "cell_type": "code",
   "execution_count": null,
   "id": "19e8eae0-a44c-4121-98f9-cb138ff723f0",
   "metadata": {},
   "outputs": [],
   "source": []
  }
 ],
 "metadata": {
  "kernelspec": {
   "display_name": "Python 3 (ipykernel)",
   "language": "python",
   "name": "python3"
  },
  "language_info": {
   "codemirror_mode": {
    "name": "ipython",
    "version": 3
   },
   "file_extension": ".py",
   "mimetype": "text/x-python",
   "name": "python",
   "nbconvert_exporter": "python",
   "pygments_lexer": "ipython3",
   "version": "3.9.13"
  }
 },
 "nbformat": 4,
 "nbformat_minor": 5
}
